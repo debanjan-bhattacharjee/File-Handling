{
 "cells": [
  {
   "cell_type": "markdown",
   "metadata": {},
   "source": [
    "#                                          File Handling in python"
   ]
  },
  {
   "cell_type": "markdown",
   "metadata": {},
   "source": [
    "We need to open it in read mode, so \"r\" (it only opens the file to read; nothing can be written onto the file)   \n",
    "For writing, we have two options: *write(\"w\") replaces the existing text and overwrites it with new data  \n",
    "                                  *append(\"a\") adds to the existing text and simply appends the additional info\n"
   ]
  },
  {
   "cell_type": "code",
   "execution_count": 1,
   "metadata": {},
   "outputs": [],
   "source": [
    "apnafile=open(\"C:\\\\Users\\\\Anjana\\\\Desktop\\\\taxes.txt\", \"r\")\n",
    "# we insert \\\\ because \\ stands for an escape sequenceabs"
   ]
  },
  {
   "cell_type": "markdown",
   "metadata": {},
   "source": [
    "Now, reading the file using **read()** and **readline()** consecutively."
   ]
  },
  {
   "cell_type": "code",
   "execution_count": 8,
   "metadata": {},
   "outputs": [
    {
     "name": "stdout",
     "output_type": "stream",
     "text": [
      "Datatype of readline() function <class 'str'>\n",
      "The first line is: Hello there\n",
      "\n",
      "The second line is: Nice 420 69\n",
      "\n"
     ]
    }
   ],
   "source": [
    "apnafile=open(\"C:\\\\Users\\\\Anjana\\\\Desktop\\\\taxes.txt\", \"r\")\n",
    "\n",
    "apnafile_ka_pehle_line_read_kiya=apnafile.readline() #it encounters the function for the first time\n",
    "apnafile_ka_doosra_line_read_kiya=apnafile.readline() #it encounters the function for the second time, \n",
    "                                                      #hence second line is returned.\n",
    "print(\"Datatype of readline() function\", type(apnafile_ka_pehle_line_read_kiya))\n",
    "print(\"The first line is:\", apnafile_ka_pehle_line_read_kiya)\n",
    "print(\"The second line is:\", apnafile_ka_doosra_line_read_kiya)"
   ]
  },
  {
   "cell_type": "code",
   "execution_count": 7,
   "metadata": {},
   "outputs": [
    {
     "name": "stdout",
     "output_type": "stream",
     "text": [
      "['Hello there\\n', 'Nice 420 69\\n']\n"
     ]
    }
   ],
   "source": [
    "apnafile=open(\"C:\\\\Users\\\\Anjana\\\\Desktop\\\\taxes.txt\", \"r\")\n",
    "urmomgay = apnafile.readlines()\n",
    "print(urmomgay)"
   ]
  },
  {
   "cell_type": "markdown",
   "metadata": {},
   "source": [
    "As you can see,the readlines() function returns the contents in a list with each line as a separate string."
   ]
  },
  {
   "cell_type": "markdown",
   "metadata": {},
   "source": [
    "## Writing onto functions\n",
    "<filename>.write(str1)- writes str1 onto the file     \n",
    "<filename>.writelines(List)- write all of the elements in the List linewise.    "
   ]
  },
  {
   "cell_type": "markdown",
   "metadata": {},
   "source": [
    "**First we must open the file in write mode**"
   ]
  },
  {
   "cell_type": "code",
   "execution_count": null,
   "metadata": {},
   "outputs": [],
   "source": [
    "apnafile=open(\"C:\\\\Users\\\\Anjana\\\\Desktop\\\\taxes.txt\", \"w\") #we use \"w\" to open it in the write mode"
   ]
  },
  {
   "cell_type": "code",
   "execution_count": 10,
   "metadata": {},
   "outputs": [],
   "source": [
    "apnafile=open(\"C:\\\\Users\\\\Anjana\\\\Desktop\\\\taxes.txt\", \"w\") #we use \"w\" to open it in the write mode\n",
    "apnafile_pe_likha = apnafile.write('This text will replace the previous text')#OVERWRITES using write function"
   ]
  },
  {
   "cell_type": "code",
   "execution_count": 15,
   "metadata": {},
   "outputs": [],
   "source": [
    "apnafile=open(\"C:\\\\Users\\\\Anjana\\\\Desktop\\\\taxes.txt\", \"w\") #we use \"w\" to open it in the write mode\n",
    "apnafile_pe_lines_likha =  apnafile.writelines(['Ur mom gay\\n','Ur dad gay too'])"
   ]
  },
  {
   "cell_type": "markdown",
   "metadata": {},
   "source": [
    "*Use \\n and other such escape sequences for the corresponding output.*"
   ]
  },
  {
   "cell_type": "markdown",
   "metadata": {},
   "source": [
    "## Appending onto Functions"
   ]
  },
  {
   "cell_type": "code",
   "execution_count": 20,
   "metadata": {},
   "outputs": [],
   "source": [
    "apnafile=open(\"C:\\\\Users\\\\Anjana\\\\Desktop\\\\taxes.txt\", \"a\") #we use \"a\" to open it in the append mode\n",
    "apnafile_pe_likha = apnafile.write('\\n This text will add to the previous text')#appends using write function"
   ]
  },
  {
   "cell_type": "markdown",
   "metadata": {},
   "source": [
    "Use the same functions like in write mode."
   ]
  },
  {
   "cell_type": "code",
   "execution_count": null,
   "metadata": {},
   "outputs": [],
   "source": []
  }
 ],
 "metadata": {
  "kernelspec": {
   "display_name": "Python 3",
   "language": "python",
   "name": "python3"
  },
  "language_info": {
   "codemirror_mode": {
    "name": "ipython",
    "version": 3
   },
   "file_extension": ".py",
   "mimetype": "text/x-python",
   "name": "python",
   "nbconvert_exporter": "python",
   "pygments_lexer": "ipython3",
   "version": "3.7.4"
  }
 },
 "nbformat": 4,
 "nbformat_minor": 2
}
